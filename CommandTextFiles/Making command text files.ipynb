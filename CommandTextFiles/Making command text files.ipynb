{
 "cells": [
  {
   "cell_type": "code",
   "execution_count": 1,
   "metadata": {},
   "outputs": [
    {
     "name": "stdout",
     "output_type": "stream",
     "text": [
      "Overwriting generate_command_text_files.py\n"
     ]
    }
   ],
   "source": [
    "%%file generate_command_text_files.py\n",
    "\n",
    "import itertools\n",
    "\n",
    "# possible graphs\n",
    "params = [\"onehot_distance\", \"blosum_distance\", \"onehot_energy\", \"blosum_energy\",\n",
    "         \"all_onehot_distance\", \"all_blosum_distance\", \"all_onehot_energy\", \"all_blosum_energy\",\n",
    "         \"everything_distance\", \"everything_energy\"]\n",
    "\n",
    "ratios = [1, 3, 5]\n",
    "selectors = [\"k_nearest\", \"residue_wise\"]\n",
    "\n",
    "graph_options = [params, ratios, selectors]\n",
    "\n",
    "graph_options_combos = list(itertools.product(*graph_options))\n",
    "pipeline_command_template = \"python3 pipeline.py -params {0} -ir {1} -is {2} -db selector_{2}_ratio_{1}_params_{0} -unsafe False\\n\"\n",
    "\n",
    "with open(\"graph_generation.txt\", \"w\") as fh:\n",
    "    for combo in graph_options_combos:\n",
    "        fh.write(pipeline_command_template.format(combo[0], combo[1], combo[2]))\n",
    "        #print(pipeline_command_template.format(combo[0], combo[1], combo[2]))\n",
    "\n",
    "# possible parameters for model\n",
    "epochs = 2000\n",
    "early_stopping = 100\n",
    "hidden1 = [20, 15, 10]\n",
    "hidden2 = [10, 5]\n",
    "dropout = [0, .25]\n",
    "attention_dim = [4, 6, 8]\n",
    "attention_bias = [1, 2, 3]\n",
    "model = [\"gcn\", \"gcn_cheby\"]\n",
    "max_degree = [3]\n",
    "accuracy_test = False\n",
    "accuracy_validation = True\n",
    "\n",
    "model_options = [hidden1, hidden2, dropout, attention_dim, attention_bias, model, max_degree]\n",
    "\n",
    "model_options_combos = list(itertools.product(*model_options))\n",
    "train_command_template = \"python3 train.py -epochs {0} -early_stopping {1} -hidden1 {2} -hidden2 {3} -dropout {4} \"\\\n",
    "                            \"-attention_dim {5} -attention_bias {6} -model {7} -max_degree {8} -dataset {9} \"\\\n",
    "                            \"-save_test {10} -save_validation {11}\"\n",
    "\n",
    "with open(\"model_generation.txt\", \"w\") as fh:\n",
    "    for graph_option in graph_options_combos:\n",
    "        for model_option in model_options_combos:\n",
    "            # name of the graph from first slurm batch command\n",
    "            graph_name = \"selector_{2}_ratio_{1}_params_{0}\".format(graph_option[0], graph_option[1], graph_option[2])\n",
    "            train_command = train_command_template.format(epochs, early_stopping, model_option[0],\n",
    "                                                         model_option[1], model_option[2], model_option[3],\n",
    "                                                         model_option[4], model_option[5], model_option[6],\n",
    "                                                         graph_name, accuracy_test, accuracy_validation)\n",
    "            #print(train_command)\n",
    "            fh.write(train_command + \"\\n\")\n"
   ]
  },
  {
   "cell_type": "code",
   "execution_count": 2,
   "metadata": {},
   "outputs": [],
   "source": [
    "!python3 generate_command_text_files.py"
   ]
  },
  {
   "cell_type": "code",
   "execution_count": null,
   "metadata": {},
   "outputs": [],
   "source": []
  }
 ],
 "metadata": {
  "kernelspec": {
   "display_name": "Python 3",
   "language": "python",
   "name": "python3"
  },
  "language_info": {
   "codemirror_mode": {
    "name": "ipython",
    "version": 3
   },
   "file_extension": ".py",
   "mimetype": "text/x-python",
   "name": "python",
   "nbconvert_exporter": "python",
   "pygments_lexer": "ipython3",
   "version": "3.6.8"
  }
 },
 "nbformat": 4,
 "nbformat_minor": 2
}
