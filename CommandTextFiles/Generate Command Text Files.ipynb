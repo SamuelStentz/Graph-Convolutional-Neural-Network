{
 "cells": [
  {
   "cell_type": "code",
   "execution_count": 5,
   "metadata": {
    "code_folding": []
   },
   "outputs": [
    {
     "name": "stdout",
     "output_type": "stream",
     "text": [
      "Overwriting generate_command_text_files.py\n"
     ]
    }
   ],
   "source": [
    "%%file generate_command_text_files.py\n",
    "# %load generate_command_text_files.py\n",
    "\n",
    "import itertools\n",
    "\n",
    "#protein\n",
    "proteins = [\"HCV\", \"HCV_A171T\", \"HCV_D183A\", \"HCV_R170K_A171T_D183A\"]\n",
    "\n",
    "#path to protein\n",
    "pr_path = \"/projects/f_sdk94_1/EnzymeModelling/SilentFiles/{}\" \n",
    "\n",
    "#classifier txt\n",
    "classifier = \"{}.txt\"\n",
    "\n",
    "# possible graphs\n",
    "params = [str(i) for i in range(8)]\n",
    "ratios = [0]\n",
    "selectors = [\"10_ang\"]\n",
    "\n",
    "graph_options = [params, ratios, selectors, proteins]\n",
    "\n",
    "graph_options_combos = list(itertools.product(*graph_options))\n",
    "pipeline_command_template = \"python3 pipeline.py -params {0} -si {1} -is {2} -db protease_{5}_selector_{2}_ratio_{1}_params_{0} -unsafe False -pr_path {3} -class {4}\\n\"\n",
    "\n",
    "with open(\"graph_generation.txt\", \"w\") as fh:\n",
    "    for combo in graph_options_combos:\n",
    "        fh.write(pipeline_command_template.format(combo[0], combo[1], combo[2], pr_path.format(combo[3]), classifier.format(combo[3]), combo[3]))\n",
    "        \n",
    "# possible parameters for model\n",
    "learning_rate = [.005, .01]\n",
    "epochs = [200, 300, 400, 500]\n",
    "graph_conv = [20, 10]\n",
    "num_conv = [1, 2, 3]\n",
    "connected = [20]\n",
    "num_connected = [0, 1, 2]\n",
    "dropout = [0,.2]\n",
    "attention_dim = [10]\n",
    "attention_bias = [1, 2, 3]\n",
    "model = [\"gcn_cheby\", \"gcn\"]\n",
    "max_degree = [3]\n",
    "accuracy_test = False\n",
    "accuracy_validation = True\n",
    "\n",
    "model_options = [learning_rate, epochs, graph_conv, num_conv, connected, num_connected,\n",
    "                 dropout, attention_dim, attention_bias, model, max_degree]\n",
    "\n",
    "model_options_combos = list(itertools.product(*model_options))\n",
    "train_command_template = \"python3 train.py -learning_rate {0} -epochs {1} -early_stopping {1} -graph_conv_dimensions {2} -dropout {3} \"\\\n",
    "                            \"-attention_dim {4} -attention_bias {5} -model {6} -max_degree {7} -connected_dimensions {8} -dataset {9} \"\\\n",
    "                            \"-save_test {10} -save_validation {11}\"\n",
    "\n",
    "# preliminary models\n",
    "with open(\"model_generation.txt\", \"w\") as fh:\n",
    "    for graph_option in graph_options_combos:\n",
    "        for model_option in model_options_combos:\n",
    "            # name of the graph from first slurm batch command\n",
    "            graph_name = \"protease_{3}_selector_{2}_ratio_{1}_params_{0}\".format(graph_option[0], graph_option[1], graph_option[2], graph_option[3])\n",
    "            \n",
    "            gcd = \"[\"\n",
    "            for x in range(model_option[3]): gcd += str(model_option[2])+\",\"\n",
    "            gcd += \"]\"\n",
    "            cd = \"[\"\n",
    "            for x in range(model_option[5]): cd += str(model_option[4])+\",\"\n",
    "            cd += \"]\"\n",
    "            \n",
    "            train_command = train_command_template.format(model_option[0], model_option[1], gcd, model_option[6],\n",
    "                                                         model_option[7], model_option[8], model_option[9],\n",
    "                                                         model_option[10], cd, graph_name,\n",
    "                                                         accuracy_test, accuracy_validation)\n",
    "            if graph_option[3] is \"HCV\":\n",
    "                #print(train_command)\n",
    "                fh.write(train_command + \"\\n\")"
   ]
  },
  {
   "cell_type": "code",
   "execution_count": 2,
   "metadata": {},
   "outputs": [
    {
     "ename": "NameError",
     "evalue": "name 'learning_rate' is not defined",
     "output_type": "error",
     "traceback": [
      "\u001b[0;31m---------------------------------------------------------------------------\u001b[0m",
      "\u001b[0;31mNameError\u001b[0m                                 Traceback (most recent call last)",
      "\u001b[0;32m<ipython-input-2-964522c1fcde>\u001b[0m in \u001b[0;36m<module>\u001b[0;34m\u001b[0m\n\u001b[0;32m----> 1\u001b[0;31m model_option = [learning_rate, epochs, graph_conv, num_conv, connected, num_connected,\n\u001b[0m\u001b[1;32m      2\u001b[0m                  dropout, attention_dim, attention_bias, model, max_degree]\n\u001b[1;32m      3\u001b[0m \u001b[0mgraph_option\u001b[0m \u001b[0;34m=\u001b[0m \u001b[0;34m[\u001b[0m\u001b[0mparams\u001b[0m\u001b[0;34m,\u001b[0m \u001b[0mratio\u001b[0m\u001b[0;34m,\u001b[0m \u001b[0mselector\u001b[0m\u001b[0;34m,\u001b[0m \u001b[0mprotease\u001b[0m\u001b[0;34m]\u001b[0m\u001b[0;34m\u001b[0m\u001b[0;34m\u001b[0m\u001b[0m\n\u001b[1;32m      4\u001b[0m \u001b[0maccuracy_test\u001b[0m \u001b[0;34m=\u001b[0m \u001b[0;32mTrue\u001b[0m\u001b[0;34m\u001b[0m\u001b[0;34m\u001b[0m\u001b[0m\n\u001b[1;32m      5\u001b[0m \u001b[0maccuracy_validation\u001b[0m \u001b[0;34m=\u001b[0m \u001b[0;32mFalse\u001b[0m\u001b[0;34m\u001b[0m\u001b[0;34m\u001b[0m\u001b[0m\n",
      "\u001b[0;31mNameError\u001b[0m: name 'learning_rate' is not defined"
     ]
    }
   ],
   "source": [
    "model_option = [learning_rate, epochs, graph_conv, num_conv, connected, num_connected,\n",
    "                 dropout, attention_dim, attention_bias, model, max_degree]\n",
    "graph_option = [params, ratio, selector, protease]\n",
    "accuracy_test = True\n",
    "accuracy_validation = False\n",
    "\n",
    "graph_name = \"protease_{3}_selector_{2}_ratio_{1}_params_{0}\".format(graph_option[0], graph_option[1], graph_option[2], graph_option[3])\n",
    "gcd = \"[\"\n",
    "for x in range(model_option[3]): gcd += str(model_option[2])+\",\"\n",
    "gcd += \"]\"\n",
    "cd = \"[\"\n",
    "for x in range(model_option[5]): cd += str(model_option[4])+\",\"\n",
    "cd += \"]\"\n",
    "train_command = \"python3 train.py -learning_rate {0} -epochs {1} -early_stopping {1} -graph_conv_dimensions {2} -dropout {3} \"\\\n",
    "                            \"-attention_dim {4} -attention_bias {5} -model {6} -max_degree {7} -connected_dimensions {8} -dataset {9} \"\\\n",
    "                            \"-save_test {10} -save_validation {11}\".format(model_option[0], model_option[1], gcd, model_option[6],\n",
    "                            model_option[7], model_option[8], model_option[9], model_option[10], cd, graph_name, accuracy_test, accuracy_validation)\n"
   ]
  },
  {
   "cell_type": "code",
   "execution_count": 6,
   "metadata": {},
   "outputs": [],
   "source": [
    "!python generate_command_text_files.py"
   ]
  },
  {
   "cell_type": "code",
   "execution_count": null,
   "metadata": {},
   "outputs": [],
   "source": []
  },
  {
   "cell_type": "code",
   "execution_count": null,
   "metadata": {},
   "outputs": [],
   "source": []
  }
 ],
 "metadata": {
  "kernelspec": {
   "display_name": "Python 3",
   "language": "python",
   "name": "python3"
  },
  "language_info": {
   "codemirror_mode": {
    "name": "ipython",
    "version": 3
   },
   "file_extension": ".py",
   "mimetype": "text/x-python",
   "name": "python",
   "nbconvert_exporter": "python",
   "pygments_lexer": "ipython3",
   "version": "3.6.8"
  }
 },
 "nbformat": 4,
 "nbformat_minor": 2
}
