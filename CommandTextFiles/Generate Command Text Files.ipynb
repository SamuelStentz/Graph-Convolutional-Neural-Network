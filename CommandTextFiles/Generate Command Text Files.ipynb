{
 "cells": [
  {
   "cell_type": "code",
   "execution_count": 6,
   "metadata": {},
   "outputs": [
    {
     "name": "stdout",
     "output_type": "stream",
     "text": [
      "Overwriting generate_command_text_files.py\n"
     ]
    }
   ],
   "source": [
    "%%file generate_command_text_files.py\n",
    "# %load generate_command_text_files.py\n",
    "\n",
    "import itertools\n",
    "\n",
    "#protein\n",
    "proteins = [\"HCV\", \"HCV_A171T\", \"HCV_D183A\", \"HCV_R170K_A171T_D183A\"]\n",
    "\n",
    "#path to protein\n",
    "pr_path = \"/projects/f_sdk94_1/EnzymeModelling/SilentFiles/{}\" \n",
    "\n",
    "#classifier txt\n",
    "classifier = \"{}.txt\"\n",
    "\n",
    "# possible graphs\n",
    "params = [\"all_onehot_distance\",  \"all_onehot_energy\", \"all_onehot_energy_distance\",  \"all_onehot_energy_terms\", \"all_onehot_energy_terms_distance\"]\n",
    "ratios = [0]\n",
    "selectors = [\"10_ang\"]\n",
    "\n",
    "graph_options = [params, ratios, selectors, proteins]\n",
    "\n",
    "graph_options_combos = list(itertools.product(*graph_options))\n",
    "pipeline_command_template = \"python3 pipeline.py -params {0} -si {1} -is {2} -db protease_{5}_selector_{2}_ratio_{1}_params_{0} -unsafe False -pr_path {3} -class {4}\\n\"\n",
    "\n",
    "with open(\"graph_generation.txt\", \"w\") as fh:\n",
    "    for combo in graph_options_combos:\n",
    "        fh.write(pipeline_command_template.format(combo[0], combo[1], combo[2], pr_path.format(combo[3]), classifier.format(combo[3]), combo[3]))\n",
    "        \n",
    "# possible parameters for model\n",
    "epochs = 1000\n",
    "early_stopping = 200\n",
    "hidden1 = [20, 15, 10, 5]\n",
    "hidden2 = [20, 15, 10, 5]\n",
    "dropout = [0, .1, .2, .3]\n",
    "attention_dim = [4, 6, 8, 10]\n",
    "attention_bias = [1, 2]\n",
    "model = [\"gcn\", \"gcn_cheby\"]\n",
    "max_degree = [1, 2, 3]\n",
    "accuracy_test = False\n",
    "accuracy_validation = True\n",
    "\n",
    "model_options = [hidden1, hidden2, dropout, attention_dim, attention_bias, model, max_degree]\n",
    "\n",
    "model_options_combos = list(itertools.product(*model_options))\n",
    "train_command_template = \"python3 train.py -epochs {0} -early_stopping {1} -graph_conv_dimensions [{2},{3}] -dropout {4} \"\\\n",
    "                            \"-attention_dim {5} -attention_bias {6} -model {7} -max_degree {8} -dataset {9} \"\\\n",
    "                            \"-save_test {10} -save_validation {11}\"\n",
    "\n",
    "with open(\"model_generation.txt\", \"w\") as fh:\n",
    "    for graph_option in graph_options_combos:\n",
    "        for model_option in model_options_combos:\n",
    "            # name of the graph from first slurm batch command\n",
    "            graph_name = \"protease_{3}_selector_{2}_ratio_{1}_params_{0}\".format(graph_option[0], graph_option[1], graph_option[2], graph_option[3])\n",
    "            train_command = train_command_template.format(epochs, early_stopping, model_option[0],\n",
    "                                                         model_option[1], model_option[2], model_option[3],\n",
    "                                                         model_option[4], model_option[5], model_option[6],\n",
    "                                                         graph_name, accuracy_test, accuracy_validation)\n",
    "            if graph_option[3] is \"HCV\":\n",
    "                #print(train_command)\n",
    "                fh.write(train_command + \"\\n\")"
   ]
  },
  {
   "cell_type": "code",
   "execution_count": 7,
   "metadata": {},
   "outputs": [],
   "source": [
    "!python generate_command_text_files.py"
   ]
  },
  {
   "cell_type": "code",
   "execution_count": null,
   "metadata": {},
   "outputs": [],
   "source": []
  }
 ],
 "metadata": {
  "kernelspec": {
   "display_name": "Python 3",
   "language": "python",
   "name": "python3"
  },
  "language_info": {
   "codemirror_mode": {
    "name": "ipython",
    "version": 3
   },
   "file_extension": ".py",
   "mimetype": "text/x-python",
   "name": "python",
   "nbconvert_exporter": "python",
   "pygments_lexer": "ipython3",
   "version": "3.6.8"
  }
 },
 "nbformat": 4,
 "nbformat_minor": 2
}
