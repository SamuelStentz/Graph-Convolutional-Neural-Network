{
 "cells": [
  {
   "cell_type": "code",
   "execution_count": 4,
   "metadata": {
    "scrolled": true
   },
   "outputs": [
    {
     "name": "stdout",
     "output_type": "stream",
     "text": [
      "PyRosetta-4 2019 [Rosetta PyRosetta4.conda.linux.CentOS.python36.Release 2019.19+release.5adc612fd9dee20f808a07e761610d95698b0f35 2019-05-10T09:04:00] retrieved from: http://www.pyrosetta.org\n",
      "(C) Copyright Rosetta Commons Member Institutions. Created in JHU by Sergey Lyskov and PyRosetta Team.\n",
      "\u001b[0mcore.init: \u001b[0mChecking for fconfig files in pwd and ./rosetta/flags \n",
      "\u001b[0mcore.init: \u001b[0mRosetta version: PyRosetta4.conda.linux.CentOS.python36.Release r221 2019.19+release.5adc612f 5adc612fd9dee20f808a07e761610d95698b0f35 http://www.pyrosetta.org 2019-05-10T09:04:00\n",
      "\u001b[0mcore.init: \u001b[0mcommand: PyRosetta -ex1 -ex2aro -database /home/samuelstentz/.conda/envs/pyrosetta/lib/python3.6/site-packages/pyrosetta/database\n",
      "\u001b[0mcore.init: \u001b[0m'RNG device' seed mode, using '/dev/urandom', seed=1831344455 seed_offset=0 real_seed=1831344455\n",
      "\u001b[0mcore.init.random: \u001b[0mRandomGenerator:init: Normal mode, seed=1831344455 RG_type=mt19937\n",
      "\u001b[0mcore.scoring.ScoreFunctionFactory: \u001b[0mSCOREFUNCTION: \u001b[32mref2015\u001b[0m\n",
      "\u001b[0mcore.scoring.etable: \u001b[0mStarting energy table calculation\n",
      "\u001b[0mcore.scoring.etable: \u001b[0msmooth_etable: changing atr/rep split to bottom of energy well\n",
      "\u001b[0mcore.scoring.etable: \u001b[0msmooth_etable: spline smoothing lj etables (maxdis = 6)\n",
      "\u001b[0mcore.scoring.etable: \u001b[0msmooth_etable: spline smoothing solvation etables (max_dis = 6)\n",
      "\u001b[0mcore.scoring.etable: \u001b[0mFinished calculating energy tables.\n",
      "\u001b[0mbasic.io.database: \u001b[0mDatabase file opened: scoring/score_functions/hbonds/ref2015_params/HBPoly1D.csv\n",
      "\u001b[0mbasic.io.database: \u001b[0mDatabase file opened: scoring/score_functions/hbonds/ref2015_params/HBFadeIntervals.csv\n",
      "\u001b[0mbasic.io.database: \u001b[0mDatabase file opened: scoring/score_functions/hbonds/ref2015_params/HBEval.csv\n",
      "\u001b[0mbasic.io.database: \u001b[0mDatabase file opened: scoring/score_functions/hbonds/ref2015_params/DonStrength.csv\n",
      "\u001b[0mbasic.io.database: \u001b[0mDatabase file opened: scoring/score_functions/hbonds/ref2015_params/AccStrength.csv\n",
      "\u001b[0mcore.chemical.GlobalResidueTypeSet: \u001b[0mFinished initializing fa_standard residue type set.  Created 979 residue types\n",
      "\u001b[0mcore.chemical.GlobalResidueTypeSet: \u001b[0mTotal time to initialize 1.5 seconds.\n",
      "\u001b[0mbasic.io.database: \u001b[0mDatabase file opened: scoring/score_functions/rama/fd/all.ramaProb\n",
      "\u001b[0mbasic.io.database: \u001b[0mDatabase file opened: scoring/score_functions/rama/fd/prepro.ramaProb\n",
      "\u001b[0mbasic.io.database: \u001b[0mDatabase file opened: scoring/score_functions/omega/omega_ppdep.all.txt\n",
      "\u001b[0mbasic.io.database: \u001b[0mDatabase file opened: scoring/score_functions/omega/omega_ppdep.gly.txt\n",
      "\u001b[0mbasic.io.database: \u001b[0mDatabase file opened: scoring/score_functions/omega/omega_ppdep.pro.txt\n",
      "\u001b[0mbasic.io.database: \u001b[0mDatabase file opened: scoring/score_functions/omega/omega_ppdep.valile.txt\n",
      "\u001b[0mbasic.io.database: \u001b[0mDatabase file opened: scoring/score_functions/P_AA_pp/P_AA\n",
      "\u001b[0mbasic.io.database: \u001b[0mDatabase file opened: scoring/score_functions/P_AA_pp/P_AA_n\n",
      "\u001b[0mcore.scoring.P_AA: \u001b[0mshapovalov_lib::shap_p_aa_pp_smooth_level of 1( aka low_smooth ) got activated.\n",
      "\u001b[0mbasic.io.database: \u001b[0mDatabase file opened: scoring/score_functions/P_AA_pp/shapovalov/10deg/kappa131/a20.prop\n",
      "\n",
      "\n",
      "\n",
      "\n",
      "\n",
      "\n",
      "/mnt/c/Users/Owner/Documents/Code/Research_Scripts/PyRosetta/Graph-Convolutional-Neural-Network/Data\n",
      "False\n",
      "selector_8_ang_ratio_0_params_all_onehot_distance\n",
      "\n",
      "\n",
      "\n",
      "\n",
      "\n",
      "\u001b[0mcore.io.silent.SilentFileData: \u001b[0mReading all structures from /mnt/c/Users/Owner/Documents/Code/Research_Scripts/PyRosetta/Graph-Convolutional-Neural-Network/bin/AYYYEPC.ASHL36194\n",
      "\u001b[0mcore.io.silent.SilentFileData: \u001b[0mFinished reading 1 structures from /mnt/c/Users/Owner/Documents/Code/Research_Scripts/PyRosetta/Graph-Convolutional-Neural-Network/bin/AYYYEPC.ASHL36194\n",
      "\u001b[0mcore.import_pose.import_pose: \u001b[0mFile './GraphGeneration/CrystalStructures/HCV.pdb' automatically determined to be of type PDB\n",
      "Substrate indices [197, 198, 199, 200, 201, 202, 203, 204, 205, 206, 207]\n",
      "Selected Substrate Indices [197, 198, 199, 200, 201, 202, 203, 204]\n",
      "Protease indices [56, 57, 58, 59, 70, 71, 72, 73, 74, 147, 148, 149, 150, 151, 152, 153, 154, 155, 169, 170, 171, 172, 173, 174, 175, 176, 177, 178, 179, 181, 182, 183]\n",
      "\u001b[0mbasic.io.database: \u001b[0mDatabase file opened: scoring/score_functions/elec_cp_reps.dat\n",
      "\u001b[0mcore.scoring.elec.util: \u001b[0mRead 40 countpair representative atoms\n",
      "\u001b[0mcore.pack.dunbrack.RotamerLibrary: \u001b[0mshapovalov_lib_fixes_enable option is true.\n",
      "\u001b[0mcore.pack.dunbrack.RotamerLibrary: \u001b[0mshapovalov_lib::shap_dun10_smooth_level of 1( aka lowest_smooth ) got activated.\n",
      "\u001b[0mcore.pack.dunbrack.RotamerLibrary: \u001b[0mBinary rotamer library selected: /home/samuelstentz/.conda/envs/pyrosetta/lib/python3.6/site-packages/pyrosetta/database/rotamer/shapovalov/StpDwn_0-0-0/Dunbrack10.lib.bin\n",
      "\u001b[0mcore.pack.dunbrack.RotamerLibrary: \u001b[0mUsing Dunbrack library binary file '/home/samuelstentz/.conda/envs/pyrosetta/lib/python3.6/site-packages/pyrosetta/database/rotamer/shapovalov/StpDwn_0-0-0/Dunbrack10.lib.bin'.\n",
      "\u001b[0mcore.pack.dunbrack.RotamerLibrary: \u001b[0mDunbrack 2010 library took 0.421875 seconds to load from binary\n",
      "\u001b[0mcore.io.silent.SilentFileData: \u001b[0mReading all structures from /mnt/c/Users/Owner/Documents/Code/Research_Scripts/PyRosetta/Graph-Convolutional-Neural-Network/bin/AYYTTQC.ASHL37878\n",
      "\u001b[0mcore.io.silent.SilentFileData: \u001b[0mFinished reading 1 structures from /mnt/c/Users/Owner/Documents/Code/Research_Scripts/PyRosetta/Graph-Convolutional-Neural-Network/bin/AYYTTQC.ASHL37878\n",
      "\u001b[0mcore.import_pose.import_pose: \u001b[0mFile './GraphGeneration/CrystalStructures/HCV.pdb' automatically determined to be of type PDB\n",
      "Substrate indices [197, 198, 199, 200, 201, 202, 203, 204, 205, 206, 207]\n",
      "Selected Substrate Indices [197, 198, 199, 200, 201, 202, 203, 204]\n",
      "Protease indices [56, 57, 58, 59, 70, 71, 72, 73, 74, 147, 148, 149, 150, 151, 152, 153, 154, 155, 169, 170, 171, 172, 173, 174, 175, 176, 177, 178, 179, 181, 182, 183]\n",
      "\u001b[0mcore.io.silent.SilentFileData: \u001b[0mReading all structures from /mnt/c/Users/Owner/Documents/Code/Research_Scripts/PyRosetta/Graph-Convolutional-Neural-Network/bin/AYYTIQC.ASHL57149\n",
      "\u001b[0mcore.io.silent.SilentFileData: \u001b[0mFinished reading 1 structures from /mnt/c/Users/Owner/Documents/Code/Research_Scripts/PyRosetta/Graph-Convolutional-Neural-Network/bin/AYYTIQC.ASHL57149\n",
      "\u001b[0mcore.import_pose.import_pose: \u001b[0mFile './GraphGeneration/CrystalStructures/HCV.pdb' automatically determined to be of type PDB\n",
      "Substrate indices [197, 198, 199, 200, 201, 202, 203, 204, 205, 206, 207]\n",
      "Selected Substrate Indices [197, 198, 199, 200, 201, 202, 203, 204]\n",
      "Protease indices [56, 57, 58, 59, 70, 71, 72, 73, 74, 147, 148, 149, 150, 151, 152, 153, 154, 155, 169, 170, 171, 172, 173, 174, 175, 176, 177, 178, 179, 181, 182, 183]\n",
      "\u001b[0mcore.io.silent.SilentFileData: \u001b[0mReading all structures from /mnt/c/Users/Owner/Documents/Code/Research_Scripts/PyRosetta/Graph-Convolutional-Neural-Network/bin/AYYTHYC.ASHL21232\n",
      "\u001b[0mcore.io.silent.SilentFileData: \u001b[0mFinished reading 1 structures from /mnt/c/Users/Owner/Documents/Code/Research_Scripts/PyRosetta/Graph-Convolutional-Neural-Network/bin/AYYTHYC.ASHL21232\n",
      "\u001b[0mcore.import_pose.import_pose: \u001b[0mFile './GraphGeneration/CrystalStructures/HCV.pdb' automatically determined to be of type PDB\n",
      "Substrate indices [197, 198, 199, 200, 201, 202, 203, 204, 205, 206, 207]\n",
      "Selected Substrate Indices [197, 198, 199, 200, 201, 202, 203, 204]\n",
      "Protease indices [56, 57, 58, 59, 70, 71, 72, 73, 74, 147, 148, 149, 150, 151, 152, 153, 154, 155, 169, 170, 171, 172, 173, 174, 175, 176, 177, 178, 179, 181, 182, 183]\n",
      "\u001b[0mcore.io.silent.SilentFileData: \u001b[0mReading all structures from /mnt/c/Users/Owner/Documents/Code/Research_Scripts/PyRosetta/Graph-Convolutional-Neural-Network/bin/AYYTHAC.ASHL73504\n",
      "\u001b[0mcore.io.silent.SilentFileData: \u001b[0mFinished reading 1 structures from /mnt/c/Users/Owner/Documents/Code/Research_Scripts/PyRosetta/Graph-Convolutional-Neural-Network/bin/AYYTHAC.ASHL73504\n",
      "\u001b[0mcore.import_pose.import_pose: \u001b[0mFile './GraphGeneration/CrystalStructures/HCV.pdb' automatically determined to be of type PDB\n",
      "Substrate indices [197, 198, 199, 200, 201, 202, 203, 204, 205, 206, 207]\n",
      "Selected Substrate Indices [197, 198, 199, 200, 201, 202, 203, 204]\n",
      "Protease indices [56, 57, 58, 59, 70, 71, 72, 73, 74, 147, 148, 149, 150, 151, 152, 153, 154, 155, 169, 170, 171, 172, 173, 174, 175, 176, 177, 178, 179, 181, 182, 183]\n"
     ]
    },
    {
     "name": "stdout",
     "output_type": "stream",
     "text": [
      "\u001b[0mcore.io.silent.SilentFileData: \u001b[0mReading all structures from /mnt/c/Users/Owner/Documents/Code/Research_Scripts/PyRosetta/Graph-Convolutional-Neural-Network/bin/AYYTDAC.ASHL23802\n",
      "\u001b[0mcore.io.silent.SilentFileData: \u001b[0mFinished reading 1 structures from /mnt/c/Users/Owner/Documents/Code/Research_Scripts/PyRosetta/Graph-Convolutional-Neural-Network/bin/AYYTDAC.ASHL23802\n",
      "\u001b[0mcore.import_pose.import_pose: \u001b[0mFile './GraphGeneration/CrystalStructures/HCV.pdb' automatically determined to be of type PDB\n",
      "^C\n",
      "CPU times: user 141 ms, sys: 93.8 ms, total: 234 ms\n",
      "Wall time: 13.6 s\n"
     ]
    }
   ],
   "source": [
    "%time !python3 pipeline.py -params 7 -is 10_ang -db selector_8_ang_ratio_0_params_all_onehot_distance -class HCV.txt -pr_path /mnt/c/Users/Owner/Documents/Code/Research_Scripts/PyRosetta/HCV"
   ]
  },
  {
   "cell_type": "code",
   "execution_count": null,
   "metadata": {},
   "outputs": [],
   "source": [
    "!pip freeze | grep tensorflow"
   ]
  },
  {
   "cell_type": "code",
   "execution_count": 6,
   "metadata": {},
   "outputs": [
    {
     "name": "stdout",
     "output_type": "stream",
     "text": [
      "<class 'bool'>\n"
     ]
    }
   ],
   "source": [
    "print(type(False))"
   ]
  },
  {
   "cell_type": "code",
   "execution_count": null,
   "metadata": {},
   "outputs": [],
   "source": []
  }
 ],
 "metadata": {
  "kernelspec": {
   "display_name": "Python 3",
   "language": "python",
   "name": "python3"
  },
  "language_info": {
   "codemirror_mode": {
    "name": "ipython",
    "version": 3
   },
   "file_extension": ".py",
   "mimetype": "text/x-python",
   "name": "python",
   "nbconvert_exporter": "python",
   "pygments_lexer": "ipython3",
   "version": "3.6.8"
  }
 },
 "nbformat": 4,
 "nbformat_minor": 2
}
