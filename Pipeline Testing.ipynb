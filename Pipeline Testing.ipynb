{
 "cells": [
  {
   "cell_type": "code",
   "execution_count": null,
   "metadata": {},
   "outputs": [],
   "source": [
    "%time !python3 pipeline.py -params all_onehot_distance -is 8_ang -db test -unsafe False -pr_path /mnt/c/Users/Owner/Documents/Code/Research_Scripts/PyRosetta/Protease-Substrate-Design/Test"
   ]
  },
  {
   "cell_type": "code",
   "execution_count": null,
   "metadata": {},
   "outputs": [],
   "source": [
    "%time !python3 pipeline.py -params all_onehot_distance -is 8_ang -db test -unsafe False -pr_path /mnt/c/Users/Owner/Documents/Code/Research_Scripts/PyRosetta/Old/GCNN"
   ]
  },
  {
   "cell_type": "code",
   "execution_count": null,
   "metadata": {},
   "outputs": [],
   "source": [
    "%time !python3 pipeline.py -params onehot_distance -is 8_ang -db test -unsafe False -pr_path /mnt/c/Users/Owner/Documents/Code/Research_Scripts/PyRosetta/Old/GCNN"
   ]
  },
  {
   "cell_type": "code",
   "execution_count": null,
   "metadata": {},
   "outputs": [],
   "source": [
    "!pip freeze | grep tensorflow"
   ]
  },
  {
   "cell_type": "code",
   "execution_count": null,
   "metadata": {},
   "outputs": [],
   "source": []
  }
 ],
 "metadata": {
  "kernelspec": {
   "display_name": "Python 3",
   "language": "python",
   "name": "python3"
  },
  "language_info": {
   "codemirror_mode": {
    "name": "ipython",
    "version": 3
   },
   "file_extension": ".py",
   "mimetype": "text/x-python",
   "name": "python",
   "nbconvert_exporter": "python",
   "pygments_lexer": "ipython3",
   "version": "3.6.8"
  }
 },
 "nbformat": 4,
 "nbformat_minor": 2
}
