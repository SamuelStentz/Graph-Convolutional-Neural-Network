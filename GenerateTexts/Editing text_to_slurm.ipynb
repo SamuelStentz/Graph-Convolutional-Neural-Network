{
 "cells": [
  {
   "cell_type": "code",
   "execution_count": 2,
   "metadata": {},
   "outputs": [
    {
     "name": "stdout",
     "output_type": "stream",
     "text": [
      "Overwriting text_to_slurm.py\n"
     ]
    }
   ],
   "source": [
    "%%file text_to_slurm.py\n",
    "# This lets you read a list of commands from a text file given in a flag and does all the slurming for you.\n",
    "# By default they are run at /scratch/ss3410/GCNN. Additionally, you can specify where to put the .sh output file.\n",
    "# By default they go down on file directory ex) /scratch/ss3410/GCNN/\n",
    "\n",
    "\n",
    "\"\"\"\n",
    "python text_to_slurm.py -txt model_generation.txt -tf -job_name M -path_operation /scratch/ss3410/Graph-Convolutional-Neural-Network/GCNClassifier -path_sh /scratch/ss3410/Graph-Convolutional-Neural-Network/Commands -mem 12000 -batch 100 -time 3-00:00:00\n",
    "python text_to_slurm.py -txt graph_generation.txt -job_name G -path_operation /scratch/ss3410/Graph-Convolutional-Neural-Network -path_sh /scratch/ss3410/Graph-Convolutional-Neural-Network/Commands -mem 8000 -batch 1 -time 10:00:00\"\"\"\n",
    "\n",
    "\n",
    "import argparse\n",
    "import os\n",
    "\n",
    "parser = argparse.ArgumentParser()\n",
    "parser.add_argument(\"-txt\", type=str)\n",
    "parser.add_argument(\"-job_name\", type=str)\n",
    "parser.add_argument(\"-path_operation\", type=str)\n",
    "parser.add_argument(\"-path_sh\", type=str)\n",
    "parser.add_argument(\"-mem\", type=str)\n",
    "parser.add_argument(\"-delay\", type=int)\n",
    "parser.add_argument(\"-batch\", type=int)\n",
    "parser.add_argument(\"-time\", type=str)\n",
    "parser.add_argument(\"-tf\", action=\"store_true\")\n",
    "\n",
    "args = parser.parse_args()\n",
    "\n",
    "filename = args.txt\n",
    "job_name = args.job_name\n",
    "path = args.path_operation\n",
    "sh = args.path_sh\n",
    "delay = args.delay\n",
    "mem = args.mem\n",
    "batch = args.batch\n",
    "time = args.time\n",
    "tf = args.tf\n",
    "\n",
    "if time == None:\n",
    "    time = \"3-00:00:00\"\n",
    "\n",
    "if batch == None:\n",
    "    batch == 1\n",
    "\n",
    "if delay == None:\n",
    "    delay = \"\"\n",
    "\n",
    "if mem == None:\n",
    "    mem = 12400\n",
    "    \n",
    "if path == None:\n",
    "    path = \"/scratch/ss3410/GCNN\"\n",
    "\n",
    "if job_name == None:\n",
    "    raise ValueError(\"no name given\")\n",
    "\n",
    "if not os.path.exists(filename) and not os.path.exists(os.path.join(os.getcwd(), filename)):\n",
    "    raise ValueError(\"file specified not found\")\n",
    "\n",
    "with open(filename) as f:\n",
    "    lineList = f.readlines()\n",
    "    \n",
    "header =\"\"\"#!/bin/bash\n",
    "#SBATCH --export=ALL\n",
    "#SBATCH --job-name {0}.{1}\n",
    "#SBATCH --partition main\n",
    "#SBATCH --ntasks {2}\n",
    "#SBATCH --cpus-per-task 1\n",
    "#SBATCH --mem {3}\n",
    "#SBATCH --output {0}.log\n",
    "#SBATCH --error {0}.err\n",
    "#SBATCH --time {5}\n",
    "#SBATCH --begin now\n",
    "\n",
    "cd {4}\n",
    "\n",
    "\"\"\"\n",
    "\n",
    "\n",
    "lineList = [x.strip() for x in lineList]\n",
    "\n",
    "if sh == None:\n",
    "    sh = \"../Commands\"\n",
    "\n",
    "i = 0\n",
    "counter = 0\n",
    "\n",
    "while i < len(lineList) + batch:\n",
    "    command = r\"{}/{}_{}.sh\".format(sh, job_name, counter)\n",
    "    header_specific = header.format(job_name, counter, 1, mem, path, time)\n",
    "    if os.path.isfile(command):\n",
    "        os.remove(command)\n",
    "    f = open(command, \"w\")\n",
    "    f.write(header_specific)\n",
    "    if tf:\n",
    "        f.write(\"\\nmodule purge\\nmodule load singularity/.2.5.1\\n\")\n",
    "    for j in range(batch):\n",
    "        if i + j < len(lineList):\n",
    "            line = lineList[i+j]\n",
    "            file_as_string = \"\\nsrun {}\\n\".format(line)\n",
    "            f.write(file_as_string)\n",
    "    f.close()\n",
    "    i += batch\n",
    "    counter += 1\n",
    "\n",
    "with open(r\"{}/{}.sh\".format(sh, job_name), \"w\") as fh:\n",
    "    fh.write(header.format(job_name, \"all\", 1, 4000, \".\", \"3:00:00\"))\n",
    "    fh.write(\"\\nfor i in {0..\" + str(counter) + \"..1}; do sbatch \" + job_name + \"_$i.sh; done\\n\")\n"
   ]
  },
  {
   "cell_type": "code",
   "execution_count": 6,
   "metadata": {},
   "outputs": [],
   "source": [
    "!python3 text_to_slurm.py -txt single_model.txt -job_name single_model -mem 12000 -batch 1 -path_operation /scratch/ss3410/GCNN/GCNClassifier\n",
    "!python3 text_to_slurm.py -txt single_graph.txt -job_name single_graph -mem 12000 -batch 1"
   ]
  },
  {
   "cell_type": "code",
   "execution_count": 7,
   "metadata": {},
   "outputs": [],
   "source": [
    "!python3 text_to_slurm.py -txt graph_generation.txt -job_name graph_generation -mem 12000 -batch 1"
   ]
  },
  {
   "cell_type": "code",
   "execution_count": 8,
   "metadata": {},
   "outputs": [],
   "source": [
    "!python3 text_to_slurm.py -txt model_generation.txt -job_name model_evaluations -mem 4000 -batch 40 -path_operation /scratch/ss3410/GCNN/GCNClassifier"
   ]
  },
  {
   "cell_type": "code",
   "execution_count": null,
   "metadata": {},
   "outputs": [],
   "source": []
  }
 ],
 "metadata": {
  "kernelspec": {
   "display_name": "Python 3",
   "language": "python",
   "name": "python3"
  },
  "language_info": {
   "codemirror_mode": {
    "name": "ipython",
    "version": 3
   },
   "file_extension": ".py",
   "mimetype": "text/x-python",
   "name": "python",
   "nbconvert_exporter": "python",
   "pygments_lexer": "ipython3",
   "version": "3.6.8"
  }
 },
 "nbformat": 4,
 "nbformat_minor": 2
}
