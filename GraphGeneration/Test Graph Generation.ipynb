{
 "cells": [
  {
   "cell_type": "code",
   "execution_count": null,
   "metadata": {},
   "outputs": [
    {
     "data": {
      "text/html": [
       "<script>Jupyter.notebook.kernel.restart()</script>"
      ]
     },
     "metadata": {},
     "output_type": "display_data"
    }
   ],
   "source": [
    "from IPython.display import display_html\n",
    "def restartkernel() :\n",
    "    display_html(\"<script>Jupyter.notebook.kernel.restart()</script>\",raw=True)\n",
    "restartkernel()"
   ]
  },
  {
   "cell_type": "code",
   "execution_count": 1,
   "metadata": {},
   "outputs": [
    {
     "name": "stdout",
     "output_type": "stream",
     "text": [
      "PyRosetta-4 2019 [Rosetta PyRosetta4.conda.linux.CentOS.python36.Release 2019.19+release.5adc612fd9dee20f808a07e761610d95698b0f35 2019-05-10T09:04:00] retrieved from: http://www.pyrosetta.org\n",
      "(C) Copyright Rosetta Commons Member Institutions. Created in JHU by Sergey Lyskov and PyRosetta Team.\n",
      "\u001b[0mcore.init: \u001b[0mChecking for fconfig files in pwd and ./rosetta/flags\n",
      "\u001b[0mcore.init: \u001b[0mRosetta version: PyRosetta4.conda.linux.CentOS.python36.Release r221 2019.19+release.5adc612f 5adc612fd9dee20f808a07e761610d95698b0f35 http://www.pyrosetta.org 2019-05-10T09:04:00\n",
      "\u001b[0mcore.init: \u001b[0mcommand: PyRosetta -ex1 -ex2aro -database /home/samuelstentz/.conda/envs/pyrosetta/lib/python3.6/site-packages/pyrosetta/database\n",
      "\u001b[0mcore.init: \u001b[0m'RNG device' seed mode, using '/dev/urandom', seed=1835787162 seed_offset=0 real_seed=1835787162\n",
      "\u001b[0mcore.init.random: \u001b[0mRandomGenerator:init: Normal mode, seed=1835787162 RG_type=mt19937\n"
     ]
    }
   ],
   "source": [
    "from protein_graph import *\n",
    "import matplotlib.pyplot as plt\n",
    "init()"
   ]
  },
  {
   "cell_type": "code",
   "execution_count": 2,
   "metadata": {},
   "outputs": [
    {
     "name": "stdout",
     "output_type": "stream",
     "text": [
      "\u001b[0mcore.chemical.GlobalResidueTypeSet: \u001b[0mFinished initializing fa_standard residue type set.  Created 979 residue types\n",
      "\u001b[0mcore.chemical.GlobalResidueTypeSet: \u001b[0mTotal time to initialize 1.09375 seconds.\n",
      "\u001b[0mcore.import_pose.import_pose: \u001b[0mFile '/mnt/c/Users/Owner/Documents/Code/Research_Scripts/PyRosetta/Graph-Convolutional-Neural-Network/GraphGeneration/CrystalStructures/HCV.pdb' automatically determined to be of type PDB\n",
      "GSVVIVGRIILSGRGGPITAYAQQTRGLLGCIITSLTGRDKNQVEGEVQIVSTAAQTFLATCINGVCWTVYHGAGTRTIASPKGPVIQMYTNVDQDLVGWPASQGTRSLTPCTCGSSDLYLVTRHADVIPVRRRGDSRGSLLSPRPISYLKGSSGGPLLCPAGHAVGIFRAAVCTRGVAKAVDFIPVENLETTMRSAECTTPCASHL\n"
     ]
    }
   ],
   "source": [
    "crystal_structure = r\"/mnt/c/Users/Owner/Documents/Code/Research_Scripts/PyRosetta/Graph-Convolutional-Neural-Network/GraphGeneration/CrystalStructures/HCV.pdb\"\n",
    "pose = pose_from_pdb(crystal_structure)\n",
    "print(pose.sequence())"
   ]
  },
  {
   "cell_type": "code",
   "execution_count": 3,
   "metadata": {},
   "outputs": [],
   "source": [
    "from pyrosetta import PyMOLMover\n",
    "pmm = PyMOLMover()\n",
    "pmm.apply(pose)"
   ]
  },
  {
   "cell_type": "code",
   "execution_count": 4,
   "metadata": {},
   "outputs": [
    {
     "name": "stdout",
     "output_type": "stream",
     "text": [
      "[197, 198, 199, 200, 201, 202, 203, 204, 205, 206, 207]\n",
      "1 B \n",
      "2 B \n",
      "3 B \n",
      "4 B \n",
      "5 B \n",
      "6 B \n",
      "7 B \n",
      "8 B \n",
      "9 B \n",
      "10 B \n",
      "11 B \n"
     ]
    }
   ],
   "source": [
    "ind_sub = index_substrate(pose)\n",
    "print(ind_sub)\n",
    "for el in ind_sub:\n",
    "    print(pose.pdb_info().pose2pdb(el))"
   ]
  },
  {
   "cell_type": "code",
   "execution_count": 5,
   "metadata": {},
   "outputs": [
    {
     "name": "stdout",
     "output_type": "stream",
     "text": [
      "[197, 198, 199, 200, 201, 202, 203, 204]\n",
      "1 B \n",
      "2 B \n",
      "3 B \n",
      "4 B \n",
      "5 B \n",
      "6 B \n",
      "7 B \n",
      "8 B \n"
     ]
    }
   ],
   "source": [
    "ind_act = index_substrate_active_site(pose, index_p1 = 7, upstream_buffer = 7, downstream_buffer = 1)\n",
    "print(ind_act)\n",
    "for el in ind_act:\n",
    "    print(pose.pdb_info().pose2pdb(el))"
   ]
  },
  {
   "cell_type": "code",
   "execution_count": 6,
   "metadata": {},
   "outputs": [
    {
     "name": "stdout",
     "output_type": "stream",
     "text": [
      "[174, 173, 172, 173, 172, 173, 172, 171, 171, 170]\n",
      "10\n"
     ]
    }
   ],
   "source": [
    "ind_if = index_interface_nearest_residuewise(pose, ind_act, ind_sub, 10)\n",
    "print(ind_if)\n",
    "print(len(ind_if))"
   ]
  },
  {
   "cell_type": "code",
   "execution_count": 7,
   "metadata": {},
   "outputs": [
    {
     "name": "stdout",
     "output_type": "stream",
     "text": [
      "\u001b[0mcore.scoring.ScoreFunctionFactory: \u001b[0mSCOREFUNCTION: \u001b[32mref2015\u001b[0m\n",
      "\u001b[0mcore.scoring.etable: \u001b[0mStarting energy table calculation\n",
      "\u001b[0mcore.scoring.etable: \u001b[0msmooth_etable: changing atr/rep split to bottom of energy well\n",
      "\u001b[0mcore.scoring.etable: \u001b[0msmooth_etable: spline smoothing lj etables (maxdis = 6)\n",
      "\u001b[0mcore.scoring.etable: \u001b[0msmooth_etable: spline smoothing solvation etables (max_dis = 6)\n",
      "\u001b[0mcore.scoring.etable: \u001b[0mFinished calculating energy tables.\n",
      "\u001b[0mbasic.io.database: \u001b[0mDatabase file opened: scoring/score_functions/hbonds/ref2015_params/HBPoly1D.csv\n",
      "\u001b[0mbasic.io.database: \u001b[0mDatabase file opened: scoring/score_functions/hbonds/ref2015_params/HBFadeIntervals.csv\n",
      "\u001b[0mbasic.io.database: \u001b[0mDatabase file opened: scoring/score_functions/hbonds/ref2015_params/HBEval.csv\n",
      "\u001b[0mbasic.io.database: \u001b[0mDatabase file opened: scoring/score_functions/hbonds/ref2015_params/DonStrength.csv\n",
      "\u001b[0mbasic.io.database: \u001b[0mDatabase file opened: scoring/score_functions/hbonds/ref2015_params/AccStrength.csv\n",
      "\u001b[0mbasic.io.database: \u001b[0mDatabase file opened: scoring/score_functions/rama/fd/all.ramaProb\n",
      "\u001b[0mbasic.io.database: \u001b[0mDatabase file opened: scoring/score_functions/rama/fd/prepro.ramaProb\n",
      "\u001b[0mbasic.io.database: \u001b[0mDatabase file opened: scoring/score_functions/omega/omega_ppdep.all.txt\n",
      "\u001b[0mbasic.io.database: \u001b[0mDatabase file opened: scoring/score_functions/omega/omega_ppdep.gly.txt\n",
      "\u001b[0mbasic.io.database: \u001b[0mDatabase file opened: scoring/score_functions/omega/omega_ppdep.pro.txt\n",
      "\u001b[0mbasic.io.database: \u001b[0mDatabase file opened: scoring/score_functions/omega/omega_ppdep.valile.txt\n",
      "\u001b[0mbasic.io.database: \u001b[0mDatabase file opened: scoring/score_functions/P_AA_pp/P_AA\n",
      "\u001b[0mbasic.io.database: \u001b[0mDatabase file opened: scoring/score_functions/P_AA_pp/P_AA_n\n",
      "\u001b[0mcore.scoring.P_AA: \u001b[0mshapovalov_lib::shap_p_aa_pp_smooth_level of 1( aka low_smooth ) got activated.\n",
      "\u001b[0mbasic.io.database: \u001b[0mDatabase file opened: scoring/score_functions/P_AA_pp/shapovalov/10deg/kappa131/a20.prop\n",
      "CPU times: user 1.72 s, sys: 46.9 ms, total: 1.77 s\n",
      "Wall time: 1.76 s\n",
      "\u001b[0mbasic.io.database: \u001b[0mDatabase file opened: scoring/score_functions/elec_cp_reps.dat\n",
      "\u001b[0mcore.scoring.elec.util: \u001b[0mRead 40 countpair representative atoms\n",
      "\u001b[0mcore.pack.dunbrack.RotamerLibrary: \u001b[0mshapovalov_lib_fixes_enable option is true.\n",
      "\u001b[0mcore.pack.dunbrack.RotamerLibrary: \u001b[0mshapovalov_lib::shap_dun10_smooth_level of 1( aka lowest_smooth ) got activated.\n",
      "\u001b[0mcore.pack.dunbrack.RotamerLibrary: \u001b[0mBinary rotamer library selected: /home/samuelstentz/.conda/envs/pyrosetta/lib/python3.6/site-packages/pyrosetta/database/rotamer/shapovalov/StpDwn_0-0-0/Dunbrack10.lib.bin\n",
      "\u001b[0mcore.pack.dunbrack.RotamerLibrary: \u001b[0mUsing Dunbrack library binary file '/home/samuelstentz/.conda/envs/pyrosetta/lib/python3.6/site-packages/pyrosetta/database/rotamer/shapovalov/StpDwn_0-0-0/Dunbrack10.lib.bin'.\n",
      "\u001b[0mcore.pack.dunbrack.RotamerLibrary: \u001b[0mDunbrack 2010 library took 0.296875 seconds to load from binary\n",
      "CPU times: user 141 ms, sys: 219 ms, total: 359 ms\n",
      "Wall time: 351 ms\n",
      "CPU times: user 0 ns, sys: 0 ns, total: 0 ns\n",
      "Wall time: 52 µs\n"
     ]
    }
   ],
   "source": [
    "%time sfxn = get_fa_scorefxn()\n",
    "%time sfxn(pose)\n",
    "%time energies = pose.energies()"
   ]
  },
  {
   "cell_type": "code",
   "execution_count": 8,
   "metadata": {
    "scrolled": false
   },
   "outputs": [
    {
     "name": "stdout",
     "output_type": "stream",
     "text": [
      "\u001b[0mcore.scoring.ScoreFunctionFactory: \u001b[0mSCOREFUNCTION: \u001b[32mref2015\u001b[0m\n",
      "CPU times: user 0 ns, sys: 0 ns, total: 0 ns\n",
      "Wall time: 14 ms\n"
     ]
    }
   ],
   "source": [
    "params = {\"amino_acids\":False,\n",
    "            \"sinusoidal_encoding\":0,\n",
    "            \"cosine_similarity\":False,\n",
    "            \"center_measure\":False,\n",
    "            \"interface_boolean\":False,\n",
    "            \"energy_terms\":[fa_intra_sol_xover4, fa_intra_rep, rama_prepro, omega, p_aa_pp, fa_dun, ref],\n",
    "            \"energy_edge_terms\":[pro_close, fa_atr, fa_rep, fa_sol, fa_elec, lk_ball_wtd],\n",
    "            \"distance\":False,\n",
    "            \"interface_edge\":False,\n",
    "            \"hydrogen_bonding\":False,\n",
    "            \"covalent_edge\":False}\n",
    "%time g = protein_graph(pose = pose, substrate_indices=ind_act, interface_indices = ind_if, params = params)"
   ]
  },
  {
   "cell_type": "code",
   "execution_count": 13,
   "metadata": {
    "scrolled": false
   },
   "outputs": [
    {
     "name": "stdout",
     "output_type": "stream",
     "text": [
      "\u001b[0mcore.scoring.ScoreFunctionFactory: \u001b[0mSCOREFUNCTION: \u001b[32mref2015\u001b[0m\n",
      "CPU times: user 15.6 ms, sys: 0 ns, total: 15.6 ms\n",
      "Wall time: 18.3 ms\n"
     ]
    }
   ],
   "source": [
    "energy_terms = [fa_intra_sol_xover4, fa_intra_rep, rama_prepro, omega, p_aa_pp, fa_dun, ref]\n",
    "params = {\"amino_acids\":True,\n",
    "                    \"sinusoidal_encoding\":3,\n",
    "                    \"cosine_similarity\":True,\n",
    "                    \"center_measure\":True,\n",
    "                    \"interface_boolean\":True,\n",
    "                    \"energy_terms\":energy_terms,\n",
    "                    \"energy_edge_terms\":[],\n",
    "                    \"distance\":True,\n",
    "                    \"energy\":True}\n",
    "%time g = protein_graph(pose = pose, substrate_indices=ind_act, interface_indices = ind_if, params = params)"
   ]
  },
  {
   "cell_type": "code",
   "execution_count": 38,
   "metadata": {},
   "outputs": [
    {
     "name": "stdout",
     "output_type": "stream",
     "text": [
      "\u001b[0mcore.import_pose.import_pose: \u001b[0mFile './CrystalStructures/HCV.pdb' automatically determined to be of type PDB\n",
      "\u001b[0mcore.scoring.ScoreFunctionFactory: \u001b[0mSCOREFUNCTION: \u001b[32mref2015\u001b[0m\n"
     ]
    },
    {
     "data": {
      "image/png": "[encoded data removed]",
      "text/plain": [
       "<Figure size 504x360 with 1 Axes>"
      ]
     },
     "metadata": {
      "needs_background": "light"
     },
     "output_type": "display_data"
    },
    {
     "data": {
      "image/png": "[encoded data removed]",
      "text/plain": [
       "<Figure size 360x360 with 1 Axes>"
      ]
     },
     "metadata": {},
     "output_type": "display_data"
    },
    {
     "data": {
      "image/png": "[encoded data removed]",
      "text/plain": [
       "<Figure size 360x360 with 1 Axes>"
      ]
     },
     "metadata": {},
     "output_type": "display_data"
    }
   ],
   "source": [
    "interface = index_interface_8ang_original(pose, ind_act, ind_sub, 10, protease = \"./CrystalStructures/HCV.pdb\")\n",
    "\n",
    "g = protein_graph(pose = pose, substrate_indices=ind_act, interface_indices = interface, params = params)\n",
    "\n",
    "fig, ax = plt.subplots()\n",
    "ax.imshow(g.V, cmap='viridis', aspect='auto')\n",
    "ax.set_xlabel(\"Features\")\n",
    "ax.set_ylabel(\"Residues\")    \n",
    "xlab = list(\"ACDEFGHIKLMNPQRSTVWY\")+[\"\", \"Sinusoidal Position\", \"\", \"Cosine Similarity\", \"Center Measure\"]\n",
    "xlab += [str(t).split(\".\")[1] for t in energy_terms] + [\"Interface Boolean\"]\n",
    "ax.set_xticks(range(g.V.shape[1]))\n",
    "ax.set_xticklabels(xlab, rotation=-90, fontdict = {'fontsize': 8})\n",
    "ax.set_yticks([])\n",
    "fig.set_size_inches(5 * 1.4, 5)\n",
    "plt.gcf().subplots_adjust(bottom=.4)\n",
    "plt.savefig(\"nodefeat.png\", format=\"png\", dpi=1000, transparent = True)\n",
    "plt.show()\n",
    "\n",
    "for m in range(g.A.shape[2]):\n",
    "    fig, ax = plt.subplots()\n",
    "    ax.imshow(g.A[:,:,m], cmap='viridis', aspect='auto')\n",
    "    ax.figsize=(10,10)\n",
    "    ax.set_xlabel(\"Residues\")\n",
    "    ax.set_ylabel(\"Residues\")    \n",
    "    ax.set_xticks([])\n",
    "    ax.set_yticks([])\n",
    "    fig.set_size_inches(5, 5)\n",
    "    plt.savefig(f\"edgefeat{m}.png\", format=\"png\", dpi=1000, transparent = True)\n",
    "    plt.show()"
   ]
  },
  {
   "cell_type": "code",
   "execution_count": 19,
   "metadata": {},
   "outputs": [
    {
     "ename": "NameError",
     "evalue": "name 'ind_if_1' is not defined",
     "output_type": "error",
     "traceback": [
      "\u001b[0;31m---------------------------------------------------------------------------\u001b[0m",
      "\u001b[0;31mNameError\u001b[0m                                 Traceback (most recent call last)",
      "\u001b[0;32m<ipython-input-19-c4074e7cb8ef>\u001b[0m in \u001b[0;36m<module>\u001b[0;34m\u001b[0m\n\u001b[1;32m      1\u001b[0m \u001b[0;31m#ind_if_1 = index_interface_10ang_original(pose, ind_act, ind_sub, 10, protease = \"./CrystalStructures/HCV.pdb\")\u001b[0m\u001b[0;34m\u001b[0m\u001b[0;34m\u001b[0m\u001b[0;34m\u001b[0m\u001b[0m\n\u001b[0;32m----> 2\u001b[0;31m \u001b[0mprint\u001b[0m\u001b[0;34m(\u001b[0m\u001b[0mind_if_1\u001b[0m\u001b[0;34m)\u001b[0m\u001b[0;34m\u001b[0m\u001b[0;34m\u001b[0m\u001b[0m\n\u001b[0m\u001b[1;32m      3\u001b[0m \u001b[0mprint\u001b[0m\u001b[0;34m(\u001b[0m\u001b[0mlen\u001b[0m\u001b[0;34m(\u001b[0m\u001b[0mind_if_1\u001b[0m\u001b[0;34m)\u001b[0m\u001b[0;34m)\u001b[0m\u001b[0;34m\u001b[0m\u001b[0;34m\u001b[0m\u001b[0m\n\u001b[1;32m      4\u001b[0m \u001b[0;32mfor\u001b[0m \u001b[0mel\u001b[0m \u001b[0;32min\u001b[0m \u001b[0mind_if_1\u001b[0m\u001b[0;34m:\u001b[0m\u001b[0;34m\u001b[0m\u001b[0;34m\u001b[0m\u001b[0m\n\u001b[1;32m      5\u001b[0m     \u001b[0mprint\u001b[0m\u001b[0;34m(\u001b[0m\u001b[0mpose\u001b[0m\u001b[0;34m.\u001b[0m\u001b[0mpdb_info\u001b[0m\u001b[0;34m(\u001b[0m\u001b[0;34m)\u001b[0m\u001b[0;34m.\u001b[0m\u001b[0mpose2pdb\u001b[0m\u001b[0;34m(\u001b[0m\u001b[0mel\u001b[0m\u001b[0;34m)\u001b[0m\u001b[0;34m)\u001b[0m\u001b[0;34m\u001b[0m\u001b[0;34m\u001b[0m\u001b[0m\n",
      "\u001b[0;31mNameError\u001b[0m: name 'ind_if_1' is not defined"
     ]
    }
   ],
   "source": [
    "#ind_if_1 = index_interface_10ang_original(pose, ind_act, ind_sub, 10, protease = \"./CrystalStructures/HCV.pdb\")\n",
    "print(ind_if_1)\n",
    "print(len(ind_if_1))\n",
    "for el in ind_if_1:\n",
    "    print(pose.pdb_info().pose2pdb(el))"
   ]
  },
  {
   "cell_type": "code",
   "execution_count": null,
   "metadata": {},
   "outputs": [],
   "source": [
    "params = {\"amino_acids\":True,\n",
    "            \"sinusoidal_encoding\":1,\n",
    "            \"cosine_similarity\":True,\n",
    "            \"center_measure\":True,\n",
    "            \"energy_terms\":[fa_rep, fa_sol],\n",
    "            \"energy\":True,\n",
    "            \"interface_boolean\":True}\n",
    "g = protein_graph(pose = pose, substrate_indices=ind_act, interface_indices = ind_if, params = params)\n",
    "print(g.A.shape)\n",
    "\n",
    "fig, ax = plt.subplots()\n",
    "ax.imshow(g.V, cmap='viridis', aspect='auto')\n",
    "plt.show()\n",
    "\n",
    "fig, ax = plt.subplots()\n",
    "ax.imshow(g.A, cmap='viridis', aspect='auto')\n",
    "plt.show()"
   ]
  },
  {
   "cell_type": "code",
   "execution_count": null,
   "metadata": {
    "scrolled": false
   },
   "outputs": [],
   "source": [
    "params = {\"amino_acids\":False,\n",
    "          \"blosum\": True,\n",
    "            \"sinusoidal_encoding\":0,\n",
    "            \"cosine_similarity\":False,\n",
    "            \"center_measure\":False,\n",
    "            \"energy_terms\":[],\n",
    "            \"edge_feature\":\"Energy\",\n",
    "            \"interface_boolean\":False}\n",
    "g = protein_graph(pose = pose, substrate_indices=ind_act, interface_indices = ind_if, params = params)\n",
    "\n",
    "fig, ax = plt.subplots()\n",
    "ax.imshow(g.V, cmap='viridis', aspect='auto')\n",
    "plt.show()\n",
    "\n",
    "fig, ax = plt.subplots()\n",
    "ax.imshow(g.A, cmap='viridis', aspect='auto')\n",
    "plt.show()"
   ]
  },
  {
   "cell_type": "code",
   "execution_count": null,
   "metadata": {},
   "outputs": [],
   "source": [
    "mat = \"blosum62.txt\"\n",
    "all_amino_acids = \"ACDEFGHIKLMNPQRSTVWY\"\n",
    "\n",
    "with open(mat) as fh:\n",
    "    ls = fh.readlines()\n",
    "\n",
    "with open(\"blosum.txt\", \"w\") as fh:\n",
    "    for el in ls:\n",
    "        el = el.replace(\"    \", \" \")\n",
    "        el = el.replace(\"   \", \" \")\n",
    "        el = el.replace(\"  \", \" \")\n",
    "        fh.write(el)\n",
    "\n",
    "df = pd.read_csv(\"blosum.txt\", sep = \" \", index_col = 0)"
   ]
  },
  {
   "cell_type": "code",
   "execution_count": 2,
   "metadata": {},
   "outputs": [
    {
     "name": "stdout",
     "output_type": "stream",
     "text": [
      "PyRosetta-4 2019 [Rosetta PyRosetta4.conda.linux.CentOS.python36.Release 2019.19+release.5adc612fd9dee20f808a07e761610d95698b0f35 2019-05-10T09:04:00] retrieved from: http://www.pyrosetta.org\n",
      "(C) Copyright Rosetta Commons Member Institutions. Created in JHU by Sergey Lyskov and PyRosetta Team.\n"
     ]
    }
   ],
   "source": [
    "from pyrosetta import *; init('-mute core')\n",
    "from pyrosetta.rosetta.core.simple_metrics.metrics import RMSDMetric\n",
    "from pyrosetta.rosetta.core.select.residue_selector import ChainSelector\n",
    "\n",
    "pose_ls = []\n",
    "for pose in poses_from_silent(\"../../HCV/AAAA__C.ASHL/AAAA__C.ASHL\"):\n",
    "    pose_ls.append(pose)"
   ]
  },
  {
   "cell_type": "code",
   "execution_count": 7,
   "metadata": {},
   "outputs": [],
   "source": [
    "for i,p in enumerate(pose_ls):\n",
    "    p.dump_pdb(f\"threaded_pose_{i}.pdb\")"
   ]
  },
  {
   "cell_type": "code",
   "execution_count": null,
   "metadata": {},
   "outputs": [],
   "source": [
    "ref_pose=pose_from_pdb(r\"/mnt/c/Users/Owner/Documents/Code/Research_Scripts/PyRosetta/Graph-Convolutional-Neural-Network/GraphGeneration/CrystalStructures/HCV.pdb\")\n",
    "rmm = RMSDMetric(ref_pose,ChainSelector('B'))"
   ]
  },
  {
   "cell_type": "code",
   "execution_count": null,
   "metadata": {},
   "outputs": [],
   "source": [
    "rmsd_ls = []\n",
    "for pose in pose_ls:\n",
    "    rmsd_ls.append(rmm.calculate(pose))"
   ]
  },
  {
   "cell_type": "code",
   "execution_count": null,
   "metadata": {
    "scrolled": true
   },
   "outputs": [],
   "source": [
    "import matplotlib.pyplot as plt\n",
    "import numpy as np\n",
    "%matplotlib inline\n",
    "plt.hist(rmsd_ls, normed=True, bins=10)\n",
    "plt.ylabel('frequency')"
   ]
  },
  {
   "cell_type": "code",
   "execution_count": null,
   "metadata": {},
   "outputs": [],
   "source": [
    "for i, r in enumerate(rmsd_ls):\n",
    "    if r >= 1:\n",
    "        print(pose_ls[i].sequence())\n",
    "        print(r)"
   ]
  },
  {
   "cell_type": "code",
   "execution_count": null,
   "metadata": {},
   "outputs": [],
   "source": [
    "pmm = PyMOLMover()\n",
    "pmm.apply(pose_ls[254])"
   ]
  },
  {
   "cell_type": "code",
   "execution_count": null,
   "metadata": {},
   "outputs": [],
   "source": [
    "amino_acids = set(list(pose.sequence()))\n",
    "types = set()\n",
    "for i in range(1, len(pose.sequence()) + 1):\n",
    "    res = pose.residue(i)\n",
    "    for atom_index in range(1, res.natoms() + 1):\n",
    "        types.add(res.atom_name(atom_index))\n",
    "dictionary = dict()\n",
    "for t in types:\n",
    "    tclean = t.strip()\n",
    "    for i in range(10):\n",
    "        tclean = tclean.replace(str(i),\"\")\n",
    "    c1 = tclean[0]\n",
    "    if c1 == \"N\":\n",
    "        dictionary[t] = 14.007\n",
    "    elif c1 == \"O\":\n",
    "        dictionary[t] = 15.999\n",
    "    elif c1 == \"C\":\n",
    "        dictionary[t] = 12.011\n",
    "    elif c1 == \"H\":\n",
    "        dictionary[t] = 1.008\n",
    "    elif c1 == \"S\":\n",
    "        dictionary[t] = 32.06\n",
    "    else:\n",
    "        print(\"failure!\")"
   ]
  },
  {
   "cell_type": "code",
   "execution_count": null,
   "metadata": {},
   "outputs": [],
   "source": [
    "import pprint\n",
    "print(dictionary)"
   ]
  },
  {
   "cell_type": "code",
   "execution_count": null,
   "metadata": {},
   "outputs": [],
   "source": []
  },
  {
   "cell_type": "code",
   "execution_count": null,
   "metadata": {},
   "outputs": [],
   "source": []
  }
 ],
 "metadata": {
  "kernelspec": {
   "display_name": "Python 3",
   "language": "python",
   "name": "python3"
  },
  "language_info": {
   "codemirror_mode": {
    "name": "ipython",
    "version": 3
   },
   "file_extension": ".py",
   "mimetype": "text/x-python",
   "name": "python",
   "nbconvert_exporter": "python",
   "pygments_lexer": "ipython3",
   "version": "3.6.8"
  }
 },
 "nbformat": 4,
 "nbformat_minor": 2
}
